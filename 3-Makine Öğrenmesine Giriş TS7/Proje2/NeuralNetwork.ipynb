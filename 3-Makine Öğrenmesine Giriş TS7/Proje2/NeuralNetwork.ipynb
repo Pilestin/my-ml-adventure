{
 "cells": [
  {
   "cell_type": "code",
   "execution_count": 1,
   "metadata": {},
   "outputs": [],
   "source": [
    "import numpy as np\n",
    "import pandas as pd \n",
    "import cv2\n",
    "import glob\n",
    "import os\n"
   ]
  },
  {
   "attachments": {},
   "cell_type": "markdown",
   "metadata": {},
   "source": [
    "Verileri tek tek almak yerine path olarak tutalım ve bu path'i verelim"
   ]
  },
  {
   "cell_type": "code",
   "execution_count": 2,
   "metadata": {},
   "outputs": [],
   "source": [
    "train_path = '/Kodlar/MachineLearning/Proje2/train'  \n",
    "# test_path = '/Kodlar/MachineLearning/Proje2/test/' \n",
    "pat2 = '/'"
   ]
  },
  {
   "attachments": {},
   "cell_type": "markdown",
   "metadata": {},
   "source": [
    "Data frame yapımızı oluşturup , path içerisinden her bir kategoriyi listdir ile alalım "
   ]
  },
  {
   "cell_type": "code",
   "execution_count": 3,
   "metadata": {},
   "outputs": [],
   "source": [
    "# train_df = pd.DataFrame()\n",
    "data_ = pd.DataFrame()\n",
    "data_['name'] = os.listdir(train_path+'/cat') + os.listdir(train_path+'/dog') + os.listdir(train_path+'/wild') \n",
    "# test_df['images'] = os.listdir(test_path+'/cat') + os.listdir(test_path+'/dog') + os.listdir(test_path+'/wild')\n",
    "\n",
    "# ------------------------------------------------------------------\n",
    "\n",
    "\n",
    "# # path = train_path + 'cat/*.jpeg'\n",
    "# for file in train_df[\"images\"]:\n",
    "#     img = cv2.imread(file)\n",
    "#     img = cv2.resize(img, (30, 30))\n",
    "#     print(img)\n",
    "#     break\n",
    "#     img = img.reshape(img.shape[0]*img.shape[1]*img.shape[2])\n",
    "#     images.append(img)\n",
    "\n"
   ]
  },
  {
   "cell_type": "code",
   "execution_count": 4,
   "metadata": {},
   "outputs": [
    {
     "data": {
      "text/html": [
       "<div>\n",
       "<style scoped>\n",
       "    .dataframe tbody tr th:only-of-type {\n",
       "        vertical-align: middle;\n",
       "    }\n",
       "\n",
       "    .dataframe tbody tr th {\n",
       "        vertical-align: top;\n",
       "    }\n",
       "\n",
       "    .dataframe thead th {\n",
       "        text-align: right;\n",
       "    }\n",
       "</style>\n",
       "<table border=\"1\" class=\"dataframe\">\n",
       "  <thead>\n",
       "    <tr style=\"text-align: right;\">\n",
       "      <th></th>\n",
       "      <th>name</th>\n",
       "    </tr>\n",
       "  </thead>\n",
       "  <tbody>\n",
       "    <tr>\n",
       "      <th>0</th>\n",
       "      <td>flickr_cat_000002.jpg</td>\n",
       "    </tr>\n",
       "    <tr>\n",
       "      <th>1</th>\n",
       "      <td>flickr_cat_000003.jpg</td>\n",
       "    </tr>\n",
       "    <tr>\n",
       "      <th>2</th>\n",
       "      <td>flickr_cat_000004.jpg</td>\n",
       "    </tr>\n",
       "    <tr>\n",
       "      <th>3</th>\n",
       "      <td>flickr_cat_000005.jpg</td>\n",
       "    </tr>\n",
       "    <tr>\n",
       "      <th>4</th>\n",
       "      <td>flickr_cat_000006.jpg</td>\n",
       "    </tr>\n",
       "    <tr>\n",
       "      <th>...</th>\n",
       "      <td>...</td>\n",
       "    </tr>\n",
       "    <tr>\n",
       "      <th>14625</th>\n",
       "      <td>pixabay_wild_001249.jpg</td>\n",
       "    </tr>\n",
       "    <tr>\n",
       "      <th>14626</th>\n",
       "      <td>pixabay_wild_001250.jpg</td>\n",
       "    </tr>\n",
       "    <tr>\n",
       "      <th>14627</th>\n",
       "      <td>pixabay_wild_001251.jpg</td>\n",
       "    </tr>\n",
       "    <tr>\n",
       "      <th>14628</th>\n",
       "      <td>pixabay_wild_001252.jpg</td>\n",
       "    </tr>\n",
       "    <tr>\n",
       "      <th>14629</th>\n",
       "      <td>pixabay_wild_001253.jpg</td>\n",
       "    </tr>\n",
       "  </tbody>\n",
       "</table>\n",
       "<p>14630 rows × 1 columns</p>\n",
       "</div>"
      ],
      "text/plain": [
       "                          name\n",
       "0        flickr_cat_000002.jpg\n",
       "1        flickr_cat_000003.jpg\n",
       "2        flickr_cat_000004.jpg\n",
       "3        flickr_cat_000005.jpg\n",
       "4        flickr_cat_000006.jpg\n",
       "...                        ...\n",
       "14625  pixabay_wild_001249.jpg\n",
       "14626  pixabay_wild_001250.jpg\n",
       "14627  pixabay_wild_001251.jpg\n",
       "14628  pixabay_wild_001252.jpg\n",
       "14629  pixabay_wild_001253.jpg\n",
       "\n",
       "[14630 rows x 1 columns]"
      ]
     },
     "execution_count": 4,
     "metadata": {},
     "output_type": "execute_result"
    }
   ],
   "source": [
    "data_"
   ]
  },
  {
   "attachments": {},
   "cell_type": "markdown",
   "metadata": {},
   "source": [
    "Verilerin karıştırılması gerek"
   ]
  },
  {
   "cell_type": "code",
   "execution_count": 5,
   "metadata": {},
   "outputs": [],
   "source": [
    "data_ = data_.sample(frac=1).reset_index(drop=True)\n",
    "# test_df = test_df.sample(frac=1).reset_index(drop=True)"
   ]
  },
  {
   "cell_type": "code",
   "execution_count": null,
   "metadata": {},
   "outputs": [],
   "source": [
    "data_"
   ]
  },
  {
   "attachments": {},
   "cell_type": "markdown",
   "metadata": {},
   "source": [
    "Verilerin etiketlenmesi gerekmekte. Bunun için dosya isimlerindeki _cat_ isimlendirmesinden yararlanalım."
   ]
  },
  {
   "cell_type": "code",
   "execution_count": 7,
   "metadata": {},
   "outputs": [],
   "source": [
    "# train için \n",
    "classes = []\n",
    "paths = []\n",
    "for image in data_['name']:\n",
    "    class_ = image.split('_')[1]\n",
    "    if(class_ == \"cat\"):\n",
    "        classes.append([0. ,  0. , 1. ])\n",
    "    elif(class_ == \"dog\" ):\n",
    "        classes.append([0. , 1. , 0. ])\n",
    "    elif(class_ == \"wild\"):\n",
    "        classes.append([1. , 0. , 0. ])\n",
    "    else:\n",
    "        print(\"hata\")\n",
    "    paths.append(train_path+'/'+class_+'/'+image)\n",
    "\n",
    "data_['classes'] = classes\n",
    "data_['path'] = paths\n",
    "\n",
    "# # test için \n",
    "# classes = []\n",
    "# paths = []\n",
    "# for image in test_df['images']:\n",
    "#     class_ = image.split('_')[1]\n",
    "#     if(class_ == \"cat\"):\n",
    "#         classes.append([0. ,  0. , 1. ])\n",
    "#     elif(class_ == \"dog\" ):\n",
    "#         classes.append([0. , 1. , 0. ])\n",
    "#     elif(class_ == \"wild\"):\n",
    "#         classes.append([1. , 0. , 0. ])\n",
    "#     else:\n",
    "#         print(\"hata\")\n",
    "#     paths.append(test_path+'/'+class_+'/'+image)\n",
    "\n",
    "# test_df['classes'] = classes\n",
    "# test_df['path'] = paths"
   ]
  },
  {
   "cell_type": "code",
   "execution_count": null,
   "metadata": {},
   "outputs": [],
   "source": [
    "data_"
   ]
  },
  {
   "attachments": {},
   "cell_type": "markdown",
   "metadata": {},
   "source": [
    "Resimlerin uzantıları df içerisinden bir döngü yardımıyla alınır ve opencv kütüphanesi yardımıyla uygun hale getirilir. "
   ]
  },
  {
   "cell_type": "code",
   "execution_count": null,
   "metadata": {},
   "outputs": [],
   "source": [
    "train_images = []\n",
    "# train verileri için resimleri dönüştürme\n",
    "for file in data_[\"path\"]:\n",
    "    img = cv2.imread(file)\n",
    "    img = cv2.resize(img, (30,30))\n",
    "    img = img.reshape(img.shape[0]*img.shape[1]*img.shape[2])\n",
    "    train_images.append(img)\n",
    "\n",
    "# test_images = []\n",
    "# # test verileri için resimleri dönüştürme\n",
    "# for file in test_df[\"path\"]:\n",
    "#     img = cv2.imread(file)\n",
    "#     img = cv2.resize(img, (30,30))\n",
    "#     img = img.reshape(img.shape[0]*img.shape[1]*img.shape[2])\n",
    "#     test_images.append(img)\n",
    "\n",
    "\n"
   ]
  },
  {
   "cell_type": "code",
   "execution_count": null,
   "metadata": {},
   "outputs": [],
   "source": [
    "train_images[0]"
   ]
  },
  {
   "cell_type": "code",
   "execution_count": null,
   "metadata": {},
   "outputs": [],
   "source": [
    "from sklearn.preprocessing import MinMaxScaler\n",
    "\n",
    "scaler = MinMaxScaler()\n",
    "scaled = scaler.fit_transform(train_images)\n",
    "scaled\n",
    "\n"
   ]
  },
  {
   "cell_type": "code",
   "execution_count": null,
   "metadata": {},
   "outputs": [],
   "source": [
    "scaled = scaled.tolist()\n",
    "scaled\n"
   ]
  },
  {
   "cell_type": "code",
   "execution_count": null,
   "metadata": {},
   "outputs": [],
   "source": [
    "data_[\"Xvalues\"] = scaled\n",
    "data_"
   ]
  },
  {
   "cell_type": "code",
   "execution_count": 17,
   "metadata": {},
   "outputs": [],
   "source": [
    "from sklearn.model_selection import train_test_split\n",
    "\n",
    "X = data_[['Xvalues']]\n",
    "Y = data_[[\"classes\"]]\n",
    "x_train, x_test, y_train, y_test =  train_test_split(X,Y,train_size=0.7) # %80 ini test için ayır."
   ]
  },
  {
   "cell_type": "code",
   "execution_count": null,
   "metadata": {},
   "outputs": [],
   "source": [
    "class Network_with_Backpropagation():\n",
    "\n",
    "    # toplam 3+1 layer olacak şekilde hazırlanmıştır. (input layer)\n",
    "    # ilk layer hidden layer (varsayılan 256 hücre) \n",
    "    # ikinci hidden layer (varsayılan 128 hücre)\n",
    "    # son olarak output layer 3 hücre\n",
    "    def __init__(self, layer , X , Y ):\n",
    "        self.X = X \n",
    "        self.Y = Y \n",
    "        self.layer = layer\n",
    "        self.numX = len(self.X[0])\n",
    "        self.w_i = self.initW_i()\n",
    "        self.w_h = self.initW_h()\n",
    "        self.w_o = self.initW_o()\n",
    "        self.a_1 = self.initNeuron(self.layer[0])\n",
    "        self.a_2 = self.initNeuron(self.layer[1])\n",
    "        self.a_3 = self.initNeuron(self.layer[2])\n",
    "        self.forward_propagation_1()\n",
    "        # self.printNetwork()\n",
    "\n",
    "\n",
    "    def forward_propagation_1(self):\n",
    "\n",
    "        # döngü içerisinde \n",
    "        #   önce sağ taraf indis  j\n",
    "        #       sonra sol taraf indis  i  \n",
    "        self.z_1 = self.initNeuron(self.layer[0])\n",
    "        self.z_2 = self.initNeuron(self.layer[1])\n",
    "        self.z_3 = self.initNeuron(self.layer[2])   \n",
    "        result   = 0\n",
    "        # ------------------------------------a^1--------------------------------------------------\n",
    "        # 2700 - 256 arası forward  \n",
    "        # j -> sağ taraftaki nöron indisi \n",
    "        # i -> sol taraftaki nöron indisi \n",
    "        print(self.layer[0])\n",
    "        for j in range(self.layer[0]): \n",
    "            result = 0  \n",
    "            for i in range(self.numX):\n",
    "                \n",
    "                # z1 = x1w11 + x2w21 +  . . . + xiwij => nereden , nereye  ; transpoz alındıktan sonra =>   i : nereye , j : nereden\n",
    "                # zj = xi.wij  \n",
    "                result = result +  self.X[0][i] * self.w_i.T[j][i]  \n",
    "            print(f\"{j} : {result}\")\n",
    "\n",
    "        print(self.z_1)\n",
    "        for i in range(self.layer[0]):\n",
    "            self.a_1[i] =self.sigmoid(self.z_1[i])\n",
    "        \n",
    "\n",
    "    def forward_propagation_2(self):\n",
    "        # ----------------------------------a^2----------------------------------------------------\n",
    "        # 256 - 128 \n",
    "        for j in range(self.layer[1]): \n",
    "            for i in range(self.layer[0]):\n",
    "                self.z_2[j] = self.a_1[i] * self.w_h.T[j][i]       \n",
    "        \n",
    "        for i in range(self.layer[1]):\n",
    "            self.a_2[i] =self.sigmoid(self.z_2[i])\n",
    "\n",
    "    def forward_propagation_3(self):\n",
    "        # -------------------------------------a^3-------------------------------------------------\n",
    "        #128 - 3 \n",
    "        for j in range(self.layer[2]): \n",
    "            for i in range(self.layer[1]):\n",
    "                self.z_3[j] = self.a_2[i] * self.w_o.T[j][i]       \n",
    "        \n",
    "        for i in range(self.layer[2]):\n",
    "            self.a_3[i] = self.sigmoid(self.z_2[i])\n",
    "        # --------------------------------------------------------------------------------------\n",
    "\n",
    "\n",
    "    # ---------------- sigmoid ve J -------------------------\n",
    "\n",
    "    def sigmoid(self, x):\n",
    "        return 1/(1+ math.exp(-x))\n",
    "\n",
    "    def J(y_ , Y):\n",
    "        m = y_.shape[1]\n",
    "        cost = -1 / m * (np.dot(Y, np.log(y_).T) + np.dot(1 - Y, np.log(1 - y_).T))\n",
    "        return np.squeeze(cost)\n",
    "    # --------------------------------------------------\n",
    "\n",
    "    def updateW(self, w):\n",
    "        return\n",
    "\n",
    "    # --------------------------------------------------\n",
    "    # ----------------INITIALIZE A----------------------\n",
    "    def initNeuron(self, neuron):\n",
    "        t = (neuron,1)\n",
    "        a = np.ones(t)\n",
    "        return a\n",
    "\n",
    "    # ----------------------------------------------------\n",
    "    # ---------------INITIALIZE W-------------------------\n",
    "    def initW_i(self):\n",
    "        #  W_input init \n",
    "        t = (2700,self.layer[0])\n",
    "        wi = np.ones(t)\n",
    "        return wi\n",
    "\n",
    "    def initW_h(self):\n",
    "        # W_hidden init \n",
    "        t = (256,self.layer[1])\n",
    "        wh = np.ones(t)\n",
    "        return wh \n",
    "\n",
    "    def initW_o(self):\n",
    "        # W_output init\n",
    "        t = (128, self.layer[2])\n",
    "        wo = np.ones(t) \n",
    "        return wo\n",
    "    # ----------------------------------------------------\n",
    "\n",
    "# X_train , X_test \n",
    "# Y_train , Y_test \n",
    "# \n",
    "# input-hidden    arası ağırlıklar => w_i \n",
    "# hidden layerlar arası ağırlıklar => w_h \n",
    "# hidden-output   arası ağırlıklar => w_o \n",
    "#  \n",
    "\n",
    "network = Network_with_Backpropagation(layer=[256,128,3] , X = x_train[\"Xvalues\"].values , Y = y_train.values  )\n",
    "\n",
    "    "
   ]
  },
  {
   "cell_type": "code",
   "execution_count": null,
   "metadata": {},
   "outputs": [],
   "source": []
  }
 ],
 "metadata": {
  "kernelspec": {
   "display_name": "Python 3",
   "language": "python",
   "name": "python3"
  },
  "language_info": {
   "codemirror_mode": {
    "name": "ipython",
    "version": 3
   },
   "file_extension": ".py",
   "mimetype": "text/x-python",
   "name": "python",
   "nbconvert_exporter": "python",
   "pygments_lexer": "ipython3",
   "version": "3.10.9"
  },
  "orig_nbformat": 4,
  "vscode": {
   "interpreter": {
    "hash": "81223654d0e3a837e31ccbba26898befdc5e50eed02c7cffce7fa9fa81e3c375"
   }
  }
 },
 "nbformat": 4,
 "nbformat_minor": 2
}
