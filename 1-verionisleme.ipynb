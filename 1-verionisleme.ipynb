{
 "cells": [
  {
   "cell_type": "code",
   "execution_count": 86,
   "metadata": {},
   "outputs": [],
   "source": [
    "import numpy as np\n",
    "import pandas as pd \n",
    "import cv2\n",
    "import glob\n",
    "import os\n",
    "import matplotlib.pyplot as plt"
   ]
  },
  {
   "attachments": {},
   "cell_type": "markdown",
   "metadata": {},
   "source": [
    "train_path = '/Kodlar/MachineLearning/Proje2/train/cat/*.jpg'\n",
    "val_path = '/Kodlar/MachineLearning/Proje2/test/'"
   ]
  },
  {
   "cell_type": "code",
   "execution_count": 87,
   "metadata": {},
   "outputs": [],
   "source": [
    "train_path = '/Kodlar/MachineLearning/Proje2/train' \n",
    "test_path = '/Kodlar/MachineLearning/Proje2/test/' "
   ]
  },
  {
   "cell_type": "code",
   "execution_count": 88,
   "metadata": {},
   "outputs": [],
   "source": [
    "train_df = pd.DataFrame()\n",
    "test_df = pd.DataFrame()\n",
    "train_df['images'] = os.listdir(train_path+'/cat') + os.listdir(train_path+'/dog') + os.listdir(train_path+'/wild') \n",
    "test_df['images'] = os.listdir(test_path+'/cat') + os.listdir(test_path+'/dog') + os.listdir(test_path+'/wild')"
   ]
  },
  {
   "cell_type": "code",
   "execution_count": null,
   "metadata": {},
   "outputs": [],
   "source": [
    "test_df"
   ]
  },
  {
   "cell_type": "code",
   "execution_count": null,
   "metadata": {},
   "outputs": [],
   "source": [
    "train_df"
   ]
  },
  {
   "cell_type": "code",
   "execution_count": 89,
   "metadata": {},
   "outputs": [],
   "source": [
    "classes = []\n",
    "paths = []\n",
    "for image in train_df['images']:\n",
    "    class_ = image.split('_')[1]\n",
    "    classes.append(class_)\n",
    "    paths.append(train_path+'/'+class_+'/'+image)"
   ]
  },
  {
   "cell_type": "code",
   "execution_count": 90,
   "metadata": {},
   "outputs": [],
   "source": [
    "train_df['classes'] = classes\n",
    "train_df['path'] = paths"
   ]
  },
  {
   "cell_type": "code",
   "execution_count": 91,
   "metadata": {},
   "outputs": [],
   "source": [
    "classes = []\n",
    "paths = []\n",
    "for image in test_df['images']:\n",
    "    class_ = image.split('_')[1]\n",
    "    classes.append(class_)\n",
    "    paths.append(test_path+'/'+class_+'/'+image)"
   ]
  },
  {
   "cell_type": "code",
   "execution_count": 92,
   "metadata": {},
   "outputs": [],
   "source": [
    "test_df['classes'] = classes\n",
    "test_df['path'] = paths"
   ]
  },
  {
   "cell_type": "code",
   "execution_count": 81,
   "metadata": {},
   "outputs": [
    {
     "data": {
      "text/html": [
       "<div>\n",
       "<style scoped>\n",
       "    .dataframe tbody tr th:only-of-type {\n",
       "        vertical-align: middle;\n",
       "    }\n",
       "\n",
       "    .dataframe tbody tr th {\n",
       "        vertical-align: top;\n",
       "    }\n",
       "\n",
       "    .dataframe thead th {\n",
       "        text-align: right;\n",
       "    }\n",
       "</style>\n",
       "<table border=\"1\" class=\"dataframe\">\n",
       "  <thead>\n",
       "    <tr style=\"text-align: right;\">\n",
       "      <th></th>\n",
       "      <th>images</th>\n",
       "      <th>classes</th>\n",
       "      <th>path</th>\n",
       "    </tr>\n",
       "  </thead>\n",
       "  <tbody>\n",
       "    <tr>\n",
       "      <th>0</th>\n",
       "      <td>flickr_cat_000002.jpg</td>\n",
       "      <td>cat</td>\n",
       "      <td>/Kodlar/MachineLearning/Proje2/train/cat/flick...</td>\n",
       "    </tr>\n",
       "    <tr>\n",
       "      <th>1</th>\n",
       "      <td>flickr_cat_000003.jpg</td>\n",
       "      <td>cat</td>\n",
       "      <td>/Kodlar/MachineLearning/Proje2/train/cat/flick...</td>\n",
       "    </tr>\n",
       "    <tr>\n",
       "      <th>2</th>\n",
       "      <td>flickr_cat_000004.jpg</td>\n",
       "      <td>cat</td>\n",
       "      <td>/Kodlar/MachineLearning/Proje2/train/cat/flick...</td>\n",
       "    </tr>\n",
       "    <tr>\n",
       "      <th>3</th>\n",
       "      <td>flickr_cat_000005.jpg</td>\n",
       "      <td>cat</td>\n",
       "      <td>/Kodlar/MachineLearning/Proje2/train/cat/flick...</td>\n",
       "    </tr>\n",
       "    <tr>\n",
       "      <th>4</th>\n",
       "      <td>flickr_cat_000006.jpg</td>\n",
       "      <td>cat</td>\n",
       "      <td>/Kodlar/MachineLearning/Proje2/train/cat/flick...</td>\n",
       "    </tr>\n",
       "  </tbody>\n",
       "</table>\n",
       "</div>"
      ],
      "text/plain": [
       "                  images classes  \\\n",
       "0  flickr_cat_000002.jpg     cat   \n",
       "1  flickr_cat_000003.jpg     cat   \n",
       "2  flickr_cat_000004.jpg     cat   \n",
       "3  flickr_cat_000005.jpg     cat   \n",
       "4  flickr_cat_000006.jpg     cat   \n",
       "\n",
       "                                                path  \n",
       "0  /Kodlar/MachineLearning/Proje2/train/cat/flick...  \n",
       "1  /Kodlar/MachineLearning/Proje2/train/cat/flick...  \n",
       "2  /Kodlar/MachineLearning/Proje2/train/cat/flick...  \n",
       "3  /Kodlar/MachineLearning/Proje2/train/cat/flick...  \n",
       "4  /Kodlar/MachineLearning/Proje2/train/cat/flick...  "
      ]
     },
     "execution_count": 81,
     "metadata": {},
     "output_type": "execute_result"
    }
   ],
   "source": [
    "train_df.head()"
   ]
  },
  {
   "attachments": {},
   "cell_type": "markdown",
   "metadata": {},
   "source": [
    "----------------------------------------------------------------"
   ]
  },
  {
   "cell_type": "code",
   "execution_count": 93,
   "metadata": {},
   "outputs": [
    {
     "ename": "NameError",
     "evalue": "name 'rnd' is not defined",
     "output_type": "error",
     "traceback": [
      "\u001b[1;31m---------------------------------------------------------------------------\u001b[0m",
      "\u001b[1;31mNameError\u001b[0m                                 Traceback (most recent call last)",
      "\u001b[1;32me:\\Kodlar\\MachineLearning\\Proje2\\1-verionisleme.ipynb Cell 13\u001b[0m in \u001b[0;36m<cell line: 2>\u001b[1;34m()\u001b[0m\n\u001b[0;32m      <a href='vscode-notebook-cell:/e%3A/Kodlar/MachineLearning/Proje2/1-verionisleme.ipynb#X11sZmlsZQ%3D%3D?line=2'>3</a>\u001b[0m plt\u001b[39m.\u001b[39msubplot(\u001b[39m4\u001b[39m,\u001b[39m7\u001b[39m,idx\u001b[39m+\u001b[39m\u001b[39m1\u001b[39m)\n\u001b[0;32m      <a href='vscode-notebook-cell:/e%3A/Kodlar/MachineLearning/Proje2/1-verionisleme.ipynb#X11sZmlsZQ%3D%3D?line=3'>4</a>\u001b[0m df \u001b[39m=\u001b[39m train_df[train_df[\u001b[39m'\u001b[39m\u001b[39mclasses\u001b[39m\u001b[39m'\u001b[39m] \u001b[39m==\u001b[39mi]\u001b[39m.\u001b[39mreset_index(drop \u001b[39m=\u001b[39m \u001b[39mTrue\u001b[39;00m)\n\u001b[1;32m----> <a href='vscode-notebook-cell:/e%3A/Kodlar/MachineLearning/Proje2/1-verionisleme.ipynb#X11sZmlsZQ%3D%3D?line=4'>5</a>\u001b[0m image_path \u001b[39m=\u001b[39m df\u001b[39m.\u001b[39mloc[rnd\u001b[39m.\u001b[39mrandint(\u001b[39m0\u001b[39m, \u001b[39mlen\u001b[39m(df))\u001b[39m-\u001b[39m\u001b[39m1\u001b[39m,\u001b[39m'\u001b[39m\u001b[39mpath\u001b[39m\u001b[39m'\u001b[39m]\n\u001b[0;32m      <a href='vscode-notebook-cell:/e%3A/Kodlar/MachineLearning/Proje2/1-verionisleme.ipynb#X11sZmlsZQ%3D%3D?line=5'>6</a>\u001b[0m img \u001b[39m=\u001b[39m Image\u001b[39m.\u001b[39mopen(image_path)\n\u001b[0;32m      <a href='vscode-notebook-cell:/e%3A/Kodlar/MachineLearning/Proje2/1-verionisleme.ipynb#X11sZmlsZQ%3D%3D?line=6'>7</a>\u001b[0m img \u001b[39m=\u001b[39m img\u001b[39m.\u001b[39mresize((\u001b[39m224\u001b[39m,\u001b[39m224\u001b[39m))\n",
      "\u001b[1;31mNameError\u001b[0m: name 'rnd' is not defined"
     ]
    },
    {
     "data": {
      "image/png": "[encoded data removed]",
      "text/plain": [
       "<Figure size 1500x1200 with 1 Axes>"
      ]
     },
     "metadata": {},
     "output_type": "display_data"
    }
   ],
   "source": [
    "plt.figure(figsize = (15,12))\n",
    "for idx,i in enumerate(train_df.classes.unique()):\n",
    "    plt.subplot(4,7,idx+1)\n",
    "    df = train_df[train_df['classes'] ==i].reset_index(drop = True)\n",
    "    image_path = df.loc[rnd.randint(0, len(df))-1,'path']\n",
    "    img = Image.open(image_path)\n",
    "    img = img.resize((224,224))\n",
    "    plt.imshow(img)\n",
    "    plt.axis('off')\n",
    "    plt.title(i)\n",
    "plt.tight_layout()\n",
    "plt.show()"
   ]
  },
  {
   "cell_type": "code",
   "execution_count": null,
   "metadata": {},
   "outputs": [],
   "source": []
  }
 ],
 "metadata": {
  "kernelspec": {
   "display_name": "Python 3",
   "language": "python",
   "name": "python3"
  },
  "language_info": {
   "codemirror_mode": {
    "name": "ipython",
    "version": 3
   },
   "file_extension": ".py",
   "mimetype": "text/x-python",
   "name": "python",
   "nbconvert_exporter": "python",
   "pygments_lexer": "ipython3",
   "version": "3.10.9 (tags/v3.10.9:1dd9be6, Dec  6 2022, 20:01:21) [MSC v.1934 64 bit (AMD64)]"
  },
  "orig_nbformat": 4,
  "vscode": {
   "interpreter": {
    "hash": "81223654d0e3a837e31ccbba26898befdc5e50eed02c7cffce7fa9fa81e3c375"
   }
  }
 },
 "nbformat": 4,
 "nbformat_minor": 2
}
