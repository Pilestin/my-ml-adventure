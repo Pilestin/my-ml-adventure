{
  "nbformat": 4,
  "nbformat_minor": 0,
  "metadata": {
    "colab": {
      "name": "MachineLearning.ipynb",
      "provenance": [],
      "collapsed_sections": [],
      "authorship_tag": "ABX9TyPXHLfMlKyRs5RCQXqSAb8U",
      "include_colab_link": true
    },
    "kernelspec": {
      "name": "python3",
      "display_name": "Python 3"
    },
    "language_info": {
      "name": "python"
    }
  },
  "cells": [
    {
      "cell_type": "markdown",
      "metadata": {
        "id": "view-in-github",
        "colab_type": "text"
      },
      "source": [
        "<a href=\"https://colab.research.google.com/github/Pilestin/MachineLearning/blob/main/1-MachineLearning.ipynb\" target=\"_parent\"><img src=\"https://colab.research.google.com/assets/colab-badge.svg\" alt=\"Open In Colab\"/></a>"
      ]
    },
    {
      "cell_type": "code",
      "execution_count": null,
      "metadata": {
        "colab": {
          "base_uri": "https://localhost:8080/"
        },
        "id": "_HN0COUBCfJ_",
        "outputId": "fb9904b5-082f-49e7-d5d0-aaba61924bdc"
      },
      "outputs": [
        {
          "output_type": "stream",
          "name": "stdout",
          "text": [
            "<class 'pandas.core.frame.DataFrame'>\n",
            "RangeIndex: 25 entries, 0 to 24\n",
            "Data columns (total 2 columns):\n",
            " #   Column  Non-Null Count  Dtype  \n",
            "---  ------  --------------  -----  \n",
            " 0   Hours   25 non-null     float64\n",
            " 1   Scores  25 non-null     int64  \n",
            "dtypes: float64(1), int64(1)\n",
            "memory usage: 528.0 bytes\n"
          ]
        }
      ],
      "source": [
        "import pandas as PD \n",
        "\n",
        "df = PD.read_csv(\"score.csv\")\n",
        "\n",
        "df.head()  # bir kısmını gösterir\n",
        "df.shape   # boyut(25,2)\n",
        "df.info()  # tablo bilgisi \n"
      ]
    },
    {
      "cell_type": "code",
      "source": [
        "df"
      ],
      "metadata": {
        "colab": {
          "base_uri": "https://localhost:8080/",
          "height": 833
        },
        "id": "XAKZUrNQt6CR",
        "outputId": "aabf2849-8edc-4406-c2f8-c92348d09767"
      },
      "execution_count": null,
      "outputs": [
        {
          "output_type": "execute_result",
          "data": {
            "text/plain": [
              "    Hours  Scores\n",
              "0     2.5      21\n",
              "1     5.1      47\n",
              "2     3.2      27\n",
              "3     8.5      75\n",
              "4     3.5      30\n",
              "5     1.5      20\n",
              "6     9.2      88\n",
              "7     5.5      60\n",
              "8     8.3      81\n",
              "9     2.7      25\n",
              "10    7.7      85\n",
              "11    5.9      62\n",
              "12    4.5      41\n",
              "13    3.3      42\n",
              "14    1.1      17\n",
              "15    8.9      95\n",
              "16    2.5      30\n",
              "17    1.9      24\n",
              "18    6.1      67\n",
              "19    7.4      69\n",
              "20    2.7      30\n",
              "21    4.8      54\n",
              "22    3.8      35\n",
              "23    6.9      76\n",
              "24    7.8      86"
            ],
            "text/html": [
              "\n",
              "  <div id=\"df-dc352fad-1eed-4082-8f14-e677dcf84436\">\n",
              "    <div class=\"colab-df-container\">\n",
              "      <div>\n",
              "<style scoped>\n",
              "    .dataframe tbody tr th:only-of-type {\n",
              "        vertical-align: middle;\n",
              "    }\n",
              "\n",
              "    .dataframe tbody tr th {\n",
              "        vertical-align: top;\n",
              "    }\n",
              "\n",
              "    .dataframe thead th {\n",
              "        text-align: right;\n",
              "    }\n",
              "</style>\n",
              "<table border=\"1\" class=\"dataframe\">\n",
              "  <thead>\n",
              "    <tr style=\"text-align: right;\">\n",
              "      <th></th>\n",
              "      <th>Hours</th>\n",
              "      <th>Scores</th>\n",
              "    </tr>\n",
              "  </thead>\n",
              "  <tbody>\n",
              "    <tr>\n",
              "      <th>0</th>\n",
              "      <td>2.5</td>\n",
              "      <td>21</td>\n",
              "    </tr>\n",
              "    <tr>\n",
              "      <th>1</th>\n",
              "      <td>5.1</td>\n",
              "      <td>47</td>\n",
              "    </tr>\n",
              "    <tr>\n",
              "      <th>2</th>\n",
              "      <td>3.2</td>\n",
              "      <td>27</td>\n",
              "    </tr>\n",
              "    <tr>\n",
              "      <th>3</th>\n",
              "      <td>8.5</td>\n",
              "      <td>75</td>\n",
              "    </tr>\n",
              "    <tr>\n",
              "      <th>4</th>\n",
              "      <td>3.5</td>\n",
              "      <td>30</td>\n",
              "    </tr>\n",
              "    <tr>\n",
              "      <th>5</th>\n",
              "      <td>1.5</td>\n",
              "      <td>20</td>\n",
              "    </tr>\n",
              "    <tr>\n",
              "      <th>6</th>\n",
              "      <td>9.2</td>\n",
              "      <td>88</td>\n",
              "    </tr>\n",
              "    <tr>\n",
              "      <th>7</th>\n",
              "      <td>5.5</td>\n",
              "      <td>60</td>\n",
              "    </tr>\n",
              "    <tr>\n",
              "      <th>8</th>\n",
              "      <td>8.3</td>\n",
              "      <td>81</td>\n",
              "    </tr>\n",
              "    <tr>\n",
              "      <th>9</th>\n",
              "      <td>2.7</td>\n",
              "      <td>25</td>\n",
              "    </tr>\n",
              "    <tr>\n",
              "      <th>10</th>\n",
              "      <td>7.7</td>\n",
              "      <td>85</td>\n",
              "    </tr>\n",
              "    <tr>\n",
              "      <th>11</th>\n",
              "      <td>5.9</td>\n",
              "      <td>62</td>\n",
              "    </tr>\n",
              "    <tr>\n",
              "      <th>12</th>\n",
              "      <td>4.5</td>\n",
              "      <td>41</td>\n",
              "    </tr>\n",
              "    <tr>\n",
              "      <th>13</th>\n",
              "      <td>3.3</td>\n",
              "      <td>42</td>\n",
              "    </tr>\n",
              "    <tr>\n",
              "      <th>14</th>\n",
              "      <td>1.1</td>\n",
              "      <td>17</td>\n",
              "    </tr>\n",
              "    <tr>\n",
              "      <th>15</th>\n",
              "      <td>8.9</td>\n",
              "      <td>95</td>\n",
              "    </tr>\n",
              "    <tr>\n",
              "      <th>16</th>\n",
              "      <td>2.5</td>\n",
              "      <td>30</td>\n",
              "    </tr>\n",
              "    <tr>\n",
              "      <th>17</th>\n",
              "      <td>1.9</td>\n",
              "      <td>24</td>\n",
              "    </tr>\n",
              "    <tr>\n",
              "      <th>18</th>\n",
              "      <td>6.1</td>\n",
              "      <td>67</td>\n",
              "    </tr>\n",
              "    <tr>\n",
              "      <th>19</th>\n",
              "      <td>7.4</td>\n",
              "      <td>69</td>\n",
              "    </tr>\n",
              "    <tr>\n",
              "      <th>20</th>\n",
              "      <td>2.7</td>\n",
              "      <td>30</td>\n",
              "    </tr>\n",
              "    <tr>\n",
              "      <th>21</th>\n",
              "      <td>4.8</td>\n",
              "      <td>54</td>\n",
              "    </tr>\n",
              "    <tr>\n",
              "      <th>22</th>\n",
              "      <td>3.8</td>\n",
              "      <td>35</td>\n",
              "    </tr>\n",
              "    <tr>\n",
              "      <th>23</th>\n",
              "      <td>6.9</td>\n",
              "      <td>76</td>\n",
              "    </tr>\n",
              "    <tr>\n",
              "      <th>24</th>\n",
              "      <td>7.8</td>\n",
              "      <td>86</td>\n",
              "    </tr>\n",
              "  </tbody>\n",
              "</table>\n",
              "</div>\n",
              "      <button class=\"colab-df-convert\" onclick=\"convertToInteractive('df-dc352fad-1eed-4082-8f14-e677dcf84436')\"\n",
              "              title=\"Convert this dataframe to an interactive table.\"\n",
              "              style=\"display:none;\">\n",
              "        \n",
              "  <svg xmlns=\"http://www.w3.org/2000/svg\" height=\"24px\"viewBox=\"0 0 24 24\"\n",
              "       width=\"24px\">\n",
              "    <path d=\"M0 0h24v24H0V0z\" fill=\"none\"/>\n",
              "    <path d=\"M18.56 5.44l.94 2.06.94-2.06 2.06-.94-2.06-.94-.94-2.06-.94 2.06-2.06.94zm-11 1L8.5 8.5l.94-2.06 2.06-.94-2.06-.94L8.5 2.5l-.94 2.06-2.06.94zm10 10l.94 2.06.94-2.06 2.06-.94-2.06-.94-.94-2.06-.94 2.06-2.06.94z\"/><path d=\"M17.41 7.96l-1.37-1.37c-.4-.4-.92-.59-1.43-.59-.52 0-1.04.2-1.43.59L10.3 9.45l-7.72 7.72c-.78.78-.78 2.05 0 2.83L4 21.41c.39.39.9.59 1.41.59.51 0 1.02-.2 1.41-.59l7.78-7.78 2.81-2.81c.8-.78.8-2.07 0-2.86zM5.41 20L4 18.59l7.72-7.72 1.47 1.35L5.41 20z\"/>\n",
              "  </svg>\n",
              "      </button>\n",
              "      \n",
              "  <style>\n",
              "    .colab-df-container {\n",
              "      display:flex;\n",
              "      flex-wrap:wrap;\n",
              "      gap: 12px;\n",
              "    }\n",
              "\n",
              "    .colab-df-convert {\n",
              "      background-color: #E8F0FE;\n",
              "      border: none;\n",
              "      border-radius: 50%;\n",
              "      cursor: pointer;\n",
              "      display: none;\n",
              "      fill: #1967D2;\n",
              "      height: 32px;\n",
              "      padding: 0 0 0 0;\n",
              "      width: 32px;\n",
              "    }\n",
              "\n",
              "    .colab-df-convert:hover {\n",
              "      background-color: #E2EBFA;\n",
              "      box-shadow: 0px 1px 2px rgba(60, 64, 67, 0.3), 0px 1px 3px 1px rgba(60, 64, 67, 0.15);\n",
              "      fill: #174EA6;\n",
              "    }\n",
              "\n",
              "    [theme=dark] .colab-df-convert {\n",
              "      background-color: #3B4455;\n",
              "      fill: #D2E3FC;\n",
              "    }\n",
              "\n",
              "    [theme=dark] .colab-df-convert:hover {\n",
              "      background-color: #434B5C;\n",
              "      box-shadow: 0px 1px 3px 1px rgba(0, 0, 0, 0.15);\n",
              "      filter: drop-shadow(0px 1px 2px rgba(0, 0, 0, 0.3));\n",
              "      fill: #FFFFFF;\n",
              "    }\n",
              "  </style>\n",
              "\n",
              "      <script>\n",
              "        const buttonEl =\n",
              "          document.querySelector('#df-dc352fad-1eed-4082-8f14-e677dcf84436 button.colab-df-convert');\n",
              "        buttonEl.style.display =\n",
              "          google.colab.kernel.accessAllowed ? 'block' : 'none';\n",
              "\n",
              "        async function convertToInteractive(key) {\n",
              "          const element = document.querySelector('#df-dc352fad-1eed-4082-8f14-e677dcf84436');\n",
              "          const dataTable =\n",
              "            await google.colab.kernel.invokeFunction('convertToInteractive',\n",
              "                                                     [key], {});\n",
              "          if (!dataTable) return;\n",
              "\n",
              "          const docLinkHtml = 'Like what you see? Visit the ' +\n",
              "            '<a target=\"_blank\" href=https://colab.research.google.com/notebooks/data_table.ipynb>data table notebook</a>'\n",
              "            + ' to learn more about interactive tables.';\n",
              "          element.innerHTML = '';\n",
              "          dataTable['output_type'] = 'display_data';\n",
              "          await google.colab.output.renderOutput(dataTable, element);\n",
              "          const docLink = document.createElement('div');\n",
              "          docLink.innerHTML = docLinkHtml;\n",
              "          element.appendChild(docLink);\n",
              "        }\n",
              "      </script>\n",
              "    </div>\n",
              "  </div>\n",
              "  "
            ]
          },
          "metadata": {},
          "execution_count": 96
        }
      ]
    },
    {
      "cell_type": "code",
      "source": [
        "import matplotlib.pyplot as PLT \n",
        "PLT.scatter(x = df[\"Hours\"] , y=df[\"Scores\"] , color=\"green\")       \n",
        "# tanım\n",
        "PLT.xlabel(\"Hours\")\n",
        "PLT.ylabel(\"Scores\")\n",
        "PLT.title(\"Hours - Scores\")\n",
        "PLT.show()\n"
      ],
      "metadata": {
        "colab": {
          "base_uri": "https://localhost:8080/",
          "height": 295
        },
        "id": "4q_M0jO5EqYU",
        "outputId": "339c597b-c2c8-4ab0-c9f0-c02096b62c8e"
      },
      "execution_count": null,
      "outputs": [
        {
          "output_type": "display_data",
          "data": {
            "text/plain": [
              "<Figure size 432x288 with 1 Axes>"
            ],
            "image/png": "[encoded data removed]"
          },
          "metadata": {
            "needs_background": "light"
          }
        }
      ]
    },
    {
      "cell_type": "code",
      "source": [
        "x = df[\"Hours\"]\n",
        "y = df[\"Scores\"]\n",
        "\n"
      ],
      "metadata": {
        "id": "zQHmEYigR8_1"
      },
      "execution_count": null,
      "outputs": []
    },
    {
      "cell_type": "code",
      "source": [
        "import sklearn.model_selection \n",
        "\n",
        "x_train, x_test, y_train, y_test =  sklearn.model_selection.train_test_split(x,y,train_size=0.8) # %80 ini test için ayır.\n"
      ],
      "metadata": {
        "id": "R9PDoUBzSLoE"
      },
      "execution_count": null,
      "outputs": []
    },
    {
      "cell_type": "code",
      "source": [
        "x_train\n"
      ],
      "metadata": {
        "colab": {
          "base_uri": "https://localhost:8080/"
        },
        "id": "mnJ3pUhjU02J",
        "outputId": "e74222e1-ced8-426f-f6a0-0df8ed936e98"
      },
      "execution_count": null,
      "outputs": [
        {
          "output_type": "execute_result",
          "data": {
            "text/plain": [
              "14    1.1\n",
              "23    6.9\n",
              "19    7.4\n",
              "12    4.5\n",
              "9     2.7\n",
              "15    8.9\n",
              "2     3.2\n",
              "7     5.5\n",
              "18    6.1\n",
              "6     9.2\n",
              "20    2.7\n",
              "1     5.1\n",
              "5     1.5\n",
              "8     8.3\n",
              "3     8.5\n",
              "4     3.5\n",
              "13    3.3\n",
              "11    5.9\n",
              "22    3.8\n",
              "0     2.5\n",
              "Name: Hours, dtype: float64"
            ]
          },
          "metadata": {},
          "execution_count": 72
        }
      ]
    },
    {
      "cell_type": "code",
      "source": [
        "x_test"
      ],
      "metadata": {
        "id": "w_KMurphU9dj"
      },
      "execution_count": null,
      "outputs": []
    },
    {
      "cell_type": "code",
      "source": [
        "# x_test 5 adet veriden oluşur çünkü %80 - %20 ayırdık\n",
        "y_train"
      ],
      "metadata": {
        "id": "yIP5POLLU2Q6"
      },
      "execution_count": null,
      "outputs": []
    },
    {
      "cell_type": "code",
      "source": [
        "y_test"
      ],
      "metadata": {
        "colab": {
          "base_uri": "https://localhost:8080/"
        },
        "id": "5QKSz6hQU2dm",
        "outputId": "502c8622-cc9f-4b0c-9114-e11e492adcca"
      },
      "execution_count": null,
      "outputs": [
        {
          "output_type": "execute_result",
          "data": {
            "text/plain": [
              "array([[25],\n",
              "       [35],\n",
              "       [42],\n",
              "       [60],\n",
              "       [54]])"
            ]
          },
          "metadata": {},
          "execution_count": 47
        }
      ]
    },
    {
      "cell_type": "code",
      "source": [
        "import numpy as NP \n",
        "\n",
        "x_train = NP.array(x_train)\n",
        "x_test= NP.array(x_test)\n",
        "y_train = NP.array(y_train)\n",
        "y_test = NP.array(y_test)\n",
        "\n",
        "# şimdi boyutlandırmayı yapmalıyız. Bir çeşit matris formatı diyebiliriz.\n",
        "# (5,) olan boyutu (5,1) yapmak gibi.\n",
        "# -1 demek sen tahmin et demek.\n",
        "x_train = x_train.reshape(-1,1)\n",
        "x_test= x_test.reshape(-1,1)\n",
        "# Bu ikisinin boyutu (5, ) şeklinde olmalı.( tek noyutlu)\n",
        "y_train = y_train.reshape(-1,1)\n",
        "y_test = y_test.reshape(-1,1)\n"
      ],
      "metadata": {
        "id": "0BGjsfkYVGAd"
      },
      "execution_count": null,
      "outputs": []
    },
    {
      "cell_type": "code",
      "source": [
        "# 0-10 arasındaki sayılarla 3,4,5 boyutunda matris oluştur.\n",
        "arr = NP.random.randint(0,10, (3,4,5))\n",
        "arr \n",
        "\n"
      ],
      "metadata": {
        "colab": {
          "base_uri": "https://localhost:8080/"
        },
        "id": "KqNib5_xWvfi",
        "outputId": "2e172d38-2ed7-4d11-ba95-5e4c6eb5cabc"
      },
      "execution_count": null,
      "outputs": [
        {
          "output_type": "execute_result",
          "data": {
            "text/plain": [
              "array([[[8, 1, 6, 1, 8],\n",
              "        [2, 3, 2, 9, 4],\n",
              "        [7, 3, 1, 4, 6],\n",
              "        [5, 0, 2, 9, 7]],\n",
              "\n",
              "       [[5, 0, 1, 1, 2],\n",
              "        [2, 3, 8, 8, 4],\n",
              "        [2, 1, 5, 8, 9],\n",
              "        [2, 1, 4, 7, 6]],\n",
              "\n",
              "       [[6, 1, 8, 6, 8],\n",
              "        [2, 1, 6, 1, 5],\n",
              "        [6, 5, 8, 3, 5],\n",
              "        [3, 8, 2, 8, 2]]])"
            ]
          },
          "metadata": {},
          "execution_count": 74
        }
      ]
    },
    {
      "cell_type": "code",
      "source": [
        "arr.ndim"
      ],
      "metadata": {
        "id": "O35q14D_XUBr"
      },
      "execution_count": null,
      "outputs": []
    },
    {
      "cell_type": "code",
      "source": [
        "arr.shape"
      ],
      "metadata": {
        "id": "C7VVfVQ_XOUF"
      },
      "execution_count": null,
      "outputs": []
    },
    {
      "cell_type": "code",
      "source": [
        "arr2 = arr.reshape(-1 , 12) # 12 kolon -1 ise uygun satırı kendisi bulacak\n",
        "arr2\n",
        "# içerik 60 olacak şekilde ayarlar aslında satırı"
      ],
      "metadata": {
        "id": "HVY16vt6Xaj-"
      },
      "execution_count": null,
      "outputs": []
    },
    {
      "cell_type": "code",
      "source": [
        "arr3 = arr.reshape(-1, 5)\n",
        "arr3"
      ],
      "metadata": {
        "id": "5v2g1m0bX3Z4"
      },
      "execution_count": null,
      "outputs": []
    },
    {
      "cell_type": "markdown",
      "source": [
        "#  Modelin Seçimi ve Eğitimi"
      ],
      "metadata": {
        "id": "NpU50nc2Yl4L"
      }
    },
    {
      "cell_type": "code",
      "source": [
        "import sklearn.linear_model \n",
        "lin_model = sklearn.linear_model.LinearRegression()\n",
        "lin_model.fit(x_train , y_train)\n",
        "# Model eğitimi burada bitti"
      ],
      "metadata": {
        "colab": {
          "base_uri": "https://localhost:8080/"
        },
        "id": "HtGUz0_LYoZb",
        "outputId": "00fed27d-8490-45ee-ba82-21d737ed9a0f"
      },
      "execution_count": null,
      "outputs": [
        {
          "output_type": "execute_result",
          "data": {
            "text/plain": [
              "LinearRegression()"
            ]
          },
          "metadata": {},
          "execution_count": 84
        }
      ]
    },
    {
      "cell_type": "markdown",
      "source": [
        "# Modelin Optimize Edilmesi\n"
      ],
      "metadata": {
        "id": "qx_h78A7atAZ"
      }
    },
    {
      "cell_type": "code",
      "source": [
        "import sklearn.metrics \n",
        "predictions = lin_model.predict(x_test)\n",
        "\n",
        "x_test[0]\n"
      ],
      "metadata": {
        "colab": {
          "base_uri": "https://localhost:8080/"
        },
        "id": "tsoyABTgZEfD",
        "outputId": "7af96388-58a1-49fa-e582-c4d9a704e615"
      },
      "execution_count": null,
      "outputs": [
        {
          "output_type": "execute_result",
          "data": {
            "text/plain": [
              "array([8.3])"
            ]
          },
          "metadata": {},
          "execution_count": 87
        }
      ]
    },
    {
      "cell_type": "markdown",
      "source": [
        "8.3 saat çalışırsa "
      ],
      "metadata": {
        "id": "VjpT7L0-cOoQ"
      }
    },
    {
      "cell_type": "code",
      "source": [
        "print(predictions)"
      ],
      "metadata": {
        "colab": {
          "base_uri": "https://localhost:8080/"
        },
        "id": "VaQFgUAEcMXb",
        "outputId": "53f4b2e5-e01a-441c-a4f3-b4cf1698bccd"
      },
      "execution_count": null,
      "outputs": [
        {
          "output_type": "stream",
          "name": "stdout",
          "text": [
            "[[83.67561642]\n",
            " [92.47829056]\n",
            " [39.6622457 ]\n",
            " [77.80716699]\n",
            " [56.28951909]]\n"
          ]
        }
      ]
    },
    {
      "cell_type": "markdown",
      "source": [
        "83.67 alır sonucunu bulduk "
      ],
      "metadata": {
        "id": "NJ2pE-w-cRD5"
      }
    },
    {
      "cell_type": "code",
      "source": [
        "x_test[-1] # sonuncu veri"
      ],
      "metadata": {
        "colab": {
          "base_uri": "https://localhost:8080/"
        },
        "id": "6uJdbyOqclu8",
        "outputId": "09f6969a-fca3-4569-c492-0d6b38c81ed8"
      },
      "execution_count": null,
      "outputs": [
        {
          "output_type": "execute_result",
          "data": {
            "text/plain": [
              "array([5.5])"
            ]
          },
          "metadata": {},
          "execution_count": 90
        }
      ]
    },
    {
      "cell_type": "code",
      "source": [
        "for i in range(len(x_test)):\n",
        "    print(f\"{i}: Gerçek değer : {y_test[i]} - Tahmin : {predictions[i]} \")"
      ],
      "metadata": {
        "colab": {
          "base_uri": "https://localhost:8080/"
        },
        "id": "PNmFBNkMcrDe",
        "outputId": "9dfa2b17-088a-4e1f-dd88-0756d2231123"
      },
      "execution_count": null,
      "outputs": [
        {
          "output_type": "stream",
          "name": "stdout",
          "text": [
            "0: Gerçek değer : [81] - Tahmin : [83.67561642] \n",
            "1: Gerçek değer : [88] - Tahmin : [92.47829056] \n",
            "2: Gerçek değer : [35] - Tahmin : [39.6622457] \n",
            "3: Gerçek değer : [85] - Tahmin : [77.80716699] \n",
            "4: Gerçek değer : [60] - Tahmin : [56.28951909] \n"
          ]
        }
      ]
    },
    {
      "cell_type": "markdown",
      "source": [
        "Hata farklarını bulmalıyız : "
      ],
      "metadata": {
        "id": "h49sSyxJszWS"
      }
    },
    {
      "cell_type": "code",
      "source": [
        "mae = sklearn.metrics.mean_absolute_error(y_test,predictions) \n",
        "print(mae)"
      ],
      "metadata": {
        "colab": {
          "base_uri": "https://localhost:8080/"
        },
        "id": "uXCA1uryswsl",
        "outputId": "56d87487-8d94-45c1-ad06-ccef5407fe77"
      },
      "execution_count": null,
      "outputs": [
        {
          "output_type": "stream",
          "name": "stdout",
          "text": [
            "4.543893321831649\n"
          ]
        }
      ]
    },
    {
      "cell_type": "code",
      "source": [
        "mse = sklearn.metrics.mean_squared_error(y_test,predictions) \n",
        "print(mse)"
      ],
      "metadata": {
        "colab": {
          "base_uri": "https://localhost:8080/"
        },
        "id": "MD1lahLEtE4_",
        "outputId": "096e510e-fc2b-456e-ef29-3c7357e6b751"
      },
      "execution_count": null,
      "outputs": [
        {
          "output_type": "stream",
          "name": "stdout",
          "text": [
            "22.891011981644656\n"
          ]
        }
      ]
    },
    {
      "cell_type": "code",
      "source": [
        "r2 = sklearn.metrics.r2_score(y_test, predictions)\n",
        "print(r2)"
      ],
      "metadata": {
        "colab": {
          "base_uri": "https://localhost:8080/"
        },
        "id": "uduq-GS0th-5",
        "outputId": "d7f07083-85d2-466b-c5bb-3a82c9e810d2"
      },
      "execution_count": null,
      "outputs": [
        {
          "output_type": "stream",
          "name": "stdout",
          "text": [
            "0.9426232906014521\n"
          ]
        }
      ]
    },
    {
      "cell_type": "markdown",
      "source": [
        "tahmin yaptıralım ( sayısal çözümleme gibi)"
      ],
      "metadata": {
        "id": "s2hsiZudupDp"
      }
    },
    {
      "cell_type": "code",
      "source": [
        "score_tahmini = lin_model.predict([[7.7]])\n",
        "print(score_tahmini)"
      ],
      "metadata": {
        "colab": {
          "base_uri": "https://localhost:8080/"
        },
        "id": "avhbPoV2tv3p",
        "outputId": "04ad39fe-007c-4e6e-df5b-3179bd1d44b8"
      },
      "execution_count": null,
      "outputs": [
        {
          "output_type": "stream",
          "name": "stdout",
          "text": [
            "[[77.80716699]]\n"
          ]
        }
      ]
    },
    {
      "cell_type": "code",
      "source": [
        "x_predictions = lin_model.predict(x_train)\n",
        "PLT.scatter(x=df[\"Hours\"], y=df[\"Scores\"],color=\"green\")\n",
        "\n",
        "PLT.scatter(x=5, y=lin_model.predict([[5]]) , color=\"red\" ) # beş saat çalışan tahmini kaç alır\n",
        "PLT.plot(x_train, x_predictions)\n",
        "PLT.xlabel(\"Hours\")\n",
        "PLT.ylabel(\"Score\")\n",
        "PLT.show()"
      ],
      "metadata": {
        "colab": {
          "base_uri": "https://localhost:8080/",
          "height": 279
        },
        "id": "nP2spLsauz2C",
        "outputId": "68c08b58-5802-4086-c50e-bb3a1bd51571"
      },
      "execution_count": null,
      "outputs": [
        {
          "output_type": "display_data",
          "data": {
            "text/plain": [
              "<Figure size 432x288 with 1 Axes>"
            ],
            "image/png": "[encoded data removed]"
          },
          "metadata": {
            "needs_background": "light"
          }
        }
      ]
    }
  ]
}